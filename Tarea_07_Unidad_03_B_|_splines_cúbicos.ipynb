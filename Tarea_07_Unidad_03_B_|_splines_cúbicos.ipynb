{
  "nbformat": 4,
  "nbformat_minor": 0,
  "metadata": {
    "colab": {
      "provenance": [],
      "authorship_tag": "ABX9TyOm/nrtMC5JteWfP09lTu/N",
      "include_colab_link": true
    },
    "kernelspec": {
      "name": "python3",
      "display_name": "Python 3"
    },
    "language_info": {
      "name": "python"
    }
  },
  "cells": [
    {
      "cell_type": "markdown",
      "metadata": {
        "id": "view-in-github",
        "colab_type": "text"
      },
      "source": [
        "<a href=\"https://colab.research.google.com/github/andresit02/M-TODOS-NUM-RICOS---TAREA-7/blob/main/Tarea_07_Unidad_03_B_%7C_splines_c%C3%BAbicos.ipynb\" target=\"_parent\"><img src=\"https://colab.research.google.com/assets/colab-badge.svg\" alt=\"Open In Colab\"/></a>"
      ]
    },
    {
      "cell_type": "markdown",
      "source": [
        "**ESCUELA POLITÉCNICA NACIONAL**\n",
        "\n",
        "**MÉTODOS NUMÉRICOS**\n",
        "\n",
        "**[Tarea 07] Unidad 03-B | splines cúbicos**\n",
        "\n",
        "**Realizado por: Andres Patricio Fernandez Obaco**"
      ],
      "metadata": {
        "id": "b-G0-wN1yV9E"
      }
    },
    {
      "cell_type": "markdown",
      "source": [
        "#**EJERCICIO 1**\n",
        "\n",
        "Dados los puntos (0,1), (1,5), (2,3), determine el spline cúbico."
      ],
      "metadata": {
        "id": "VIXZkYUtyulx"
      }
    },
    {
      "cell_type": "markdown",
      "source": [
        "**$S_0(x)=a_0+b_0(x-x_0)+c_0(x-x_0)^2+d_0(x-x_0)^3$**\n",
        "\n",
        "**$S_1(x)=a_1+b_1(x-x_0)+c_1(x-x_0)^2+d_1(x-x_0)^3$**\n",
        "\n",
        "**Ecuaciones:**\n",
        "\n",
        "- $a_0=1$\n",
        "- $c_0=0$\n",
        "- $a_0=1$\n",
        "- $b_0+d_0=4$\n",
        "- $a_1=5$\n",
        "- $b_1+c_1+d_1=-2$\n",
        "\n",
        "**Valores:**\n",
        "\n",
        "- $b_0=5$\n",
        "- $b_1=2$\n",
        "- $d_1=-1$\n",
        "- $c_1=-3$\n",
        "\n",
        "**Ecuaciones Splines Cubicos:**\n",
        "\n",
        "- $S_0(x)=1+5x-x^2$\n",
        "- $5+2(x+1)-3(x-1)^2-(x-1)^3$"
      ],
      "metadata": {
        "id": "Fpuh4Uq1y-2t"
      }
    },
    {
      "cell_type": "markdown",
      "source": [
        "#**EJERCICIO 2**\n",
        "\n",
        "Dados los puntos (-1,1), (1,3), determine el spline cúbico sabiendo que $𝑓′(𝑥_0) = 1, 𝑓′(𝑥_𝑛) = 2$"
      ],
      "metadata": {
        "id": "O_rW0vbtzduK"
      }
    },
    {
      "cell_type": "markdown",
      "source": [
        "**$S(x)=a+b(x-1)+c(x-1)^2+d(x-1)^3$**\n",
        "\n",
        "**Condiciones:**\n",
        "\n",
        "- $𝑓′(𝑥_0) = 1$\n",
        "- $𝑓′(𝑥_𝑛) = 2$\n",
        "- $S(x_0)=a=1$\n",
        "- $b+2c+4d=1$\n",
        "- $S'(x_0)=b=1$\n",
        "- $c+3d=0.25$\n",
        "\n",
        "**Valores:**\n",
        "\n",
        "- $a=1$\n",
        "- $b=1$\n",
        "- $c=-0.5$\n",
        "- $d=0.25$\n",
        "\n",
        "**Ecuaciones Splines Cubicos:**\n",
        "\n",
        "- $7/4+1/4x^3+1/4x^2+3/4x$"
      ],
      "metadata": {
        "id": "bhIjwV4nz12x"
      }
    }
  ]
}